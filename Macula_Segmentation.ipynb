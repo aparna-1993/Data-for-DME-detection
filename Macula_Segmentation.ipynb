{
  "nbformat": 4,
  "nbformat_minor": 0,
  "metadata": {
    "colab": {
      "provenance": [],
      "gpuType": "T4"
    },
    "kernelspec": {
      "name": "python3",
      "display_name": "Python 3"
    },
    "language_info": {
      "name": "python"
    },
    "accelerator": "GPU"
  },
  "cells": [
    {
      "cell_type": "code",
      "source": [
        "import os\n",
        "import numpy as np\n",
        "import tensorflow as tf\n",
        "from tensorflow import keras\n",
        "from tensorflow.keras import layers\n",
        "from tensorflow.keras.preprocessing.image import load_img, img_to_array\n",
        "from sklearn.model_selection import train_test_split\n",
        "from tensorflow.keras.utils import Sequence\n",
        "import albumentations as A\n",
        "from albumentations.core.composition import OneOf\n",
        "import cv2\n",
        "\n",
        "# Parameters\n",
        "img_size = (256, 256)\n",
        "batch_size = 16\n",
        "\n",
        "# ✅ Dice coefficient\n",
        "def dice_coefficient(y_true, y_pred, smooth=1e-6):\n",
        "    y_true = tf.cast(y_true, tf.float32)\n",
        "    y_pred = tf.cast(y_pred > 0.5, tf.float32)\n",
        "    y_true_f = tf.reshape(y_true, [tf.shape(y_true)[0], -1])\n",
        "    y_pred_f = tf.reshape(y_pred, [tf.shape(y_pred)[0], -1])\n",
        "    intersection = tf.reduce_sum(y_true_f * y_pred_f, axis=1)\n",
        "    union = tf.reduce_sum(y_true_f, axis=1) + tf.reduce_sum(y_pred_f, axis=1)\n",
        "    dice = tf.reduce_mean((2. * intersection + smooth) / (union + smooth))\n",
        "    return dice\n",
        "\n",
        "def dice_loss(y_true, y_pred):\n",
        "    return 1.0 - dice_coefficient(y_true, y_pred)\n",
        "\n",
        "def combined_loss(y_true, y_pred):\n",
        "    bce = tf.keras.losses.BinaryCrossentropy()(y_true, y_pred)\n",
        "    dsc = dice_loss(y_true, y_pred)\n",
        "    return bce + dsc\n",
        "\n",
        "# ✅ Augmentations\n",
        "transform = A.Compose([\n",
        "    A.HorizontalFlip(p=0.5),\n",
        "    A.RandomBrightnessContrast(p=0.2),\n",
        "    A.Rotate(limit=15, p=0.3),\n",
        "    A.ShiftScaleRotate(shift_limit=0.05, scale_limit=0.05, rotate_limit=0, p=0.3)\n",
        "])\n",
        "\n",
        "\n",
        "class DataGen(Sequence):\n",
        "    def __init__(self, images, masks, batch_size, augment=False):\n",
        "        self.images = images\n",
        "        self.masks = masks\n",
        "        self.batch_size = batch_size\n",
        "        self.augment = augment\n",
        "\n",
        "    def __len__(self):\n",
        "        return int(np.ceil(len(self.images) / self.batch_size))\n",
        "\n",
        "    def __getitem__(self, idx):\n",
        "        batch_x = self.images[idx * self.batch_size:(idx + 1) * self.batch_size]\n",
        "        batch_y = self.masks[idx * self.batch_size:(idx + 1) * self.batch_size]\n",
        "\n",
        "        imgs = []\n",
        "        msks = []\n",
        "\n",
        "        for img_path, mask_path in zip(batch_x, batch_y):\n",
        "            img = cv2.imread(img_path)\n",
        "            mask = cv2.imread(mask_path, 0)\n",
        "\n",
        "            img = cv2.resize(img, img_size)\n",
        "            mask = cv2.resize(mask, img_size)\n",
        "\n",
        "            if self.augment:\n",
        "                augmented = transform(image=img, mask=mask)\n",
        "                img = augmented['image']\n",
        "                mask = augmented['mask']\n",
        "\n",
        "            img = img.astype(np.float32) / 255.0\n",
        "            mask = (mask > 127).astype(np.float32)\n",
        "            mask = np.expand_dims(mask, axis=-1)\n",
        "\n",
        "            imgs.append(img)\n",
        "            msks.append(mask)\n",
        "\n",
        "        return np.array(imgs), np.array(msks)\n",
        "\n",
        "# ✅ Build  U-Net\n",
        "def get_unet(input_shape):\n",
        "    inputs = layers.Input(input_shape)\n",
        "\n",
        "    def conv_block(x, filters):\n",
        "        x = layers.Conv2D(filters, 3, padding='same')(x)\n",
        "        x = layers.BatchNormalization()(x)\n",
        "        x = layers.ReLU()(x)\n",
        "        x = layers.Conv2D(filters, 3, padding='same')(x)\n",
        "        x = layers.BatchNormalization()(x)\n",
        "        return layers.ReLU()(x)\n",
        "\n",
        "    def encoder_block(x, filters):\n",
        "        f = conv_block(x, filters)\n",
        "        p = layers.MaxPooling2D()(f)\n",
        "        return f, p\n",
        "\n",
        "    def decoder_block(x, skip, filters):\n",
        "        x = layers.UpSampling2D()(x)\n",
        "        x = layers.Concatenate()([x, skip])\n",
        "        return conv_block(x, filters)\n",
        "\n",
        "    f1, p1 = encoder_block(inputs, 32)\n",
        "    f2, p2 = encoder_block(p1, 64)\n",
        "    f3, p3 = encoder_block(p2, 128)\n",
        "\n",
        "    bottleneck = conv_block(p3, 256)\n",
        "\n",
        "    d3 = decoder_block(bottleneck, f3, 128)\n",
        "    d2 = decoder_block(d3, f2, 64)\n",
        "    d1 = decoder_block(d2, f1, 32)\n",
        "\n",
        "    outputs = layers.Conv2D(1, 1, activation='sigmoid')(d1)\n",
        "\n",
        "    return keras.Model(inputs, outputs)\n",
        "\n",
        "# ✅ Get image/mask pairs\n",
        "def get_image_mask_pairs(image_dir, mask_dir):\n",
        "    image_paths = []\n",
        "    mask_paths = []\n",
        "\n",
        "    for fname in os.listdir(image_dir):\n",
        "        name, _ = os.path.splitext(fname)\n",
        "        mask_file = name + \".png\"\n",
        "        img_path = os.path.join(image_dir, fname)\n",
        "        mask_path = os.path.join(mask_dir, mask_file)\n",
        "\n",
        "        if os.path.exists(mask_path):\n",
        "            image_paths.append(img_path)\n",
        "            mask_paths.append(mask_path)\n",
        "        else:\n",
        "            print(f\"[!] No mask for {fname}, skipping.\")\n",
        "\n",
        "    print(f\"\\n✅ Found {len(image_paths)} valid image-mask pairs.\\n\")\n",
        "    return image_paths, mask_paths\n",
        "\n",
        "# ✅ Paths to your data\n",
        "image_dir = \"/content/drive/MyDrive/fundus images\"\n",
        "mask_dir = \"/content/drive/MyDrive/MASK\"\n",
        "\n",
        "# ✅ Load and split data\n",
        "image_paths, mask_paths = get_image_mask_pairs(image_dir, mask_dir)\n",
        "train_imgs, val_imgs, train_masks, val_masks = train_test_split(image_paths, mask_paths, test_size=0.2, random_state=42)\n",
        "\n",
        "train_gen = DataGen(train_imgs, train_masks, batch_size=batch_size, augment=True)\n",
        "val_gen = DataGen(val_imgs, val_masks, batch_size=batch_size)\n",
        "\n",
        "# ✅ Build and compile model\n",
        "model = get_unet((*img_size, 3))\n",
        "model.compile(optimizer='adam', loss=combined_loss, metrics=['accuracy', dice_coefficient])\n",
        "\n",
        "# ✅ Callbacks\n",
        "checkpoint = keras.callbacks.ModelCheckpoint(\"best_model.h5\", monitor='val_dice_coefficient',\n",
        "                                              mode='max', save_best_only=True, verbose=1)\n",
        "\n",
        "# ✅ Train\n",
        "model.fit(train_gen, validation_data=val_gen, epochs=50, callbacks=[checkpoint])\n"
      ],
      "metadata": {
        "colab": {
          "base_uri": "https://localhost:8080/"
        },
        "id": "PP3oqz4wutoq",
        "outputId": "a88191a7-a2e4-4022-a971-0d5fdb7e461b"
      },
      "execution_count": null,
      "outputs": [
        {
          "output_type": "stream",
          "name": "stderr",
          "text": [
            "/usr/local/lib/python3.11/dist-packages/albumentations/core/validation.py:114: UserWarning: ShiftScaleRotate is a special case of Affine transform. Please use Affine transform instead.\n",
            "  original_init(self, **validated_kwargs)\n"
          ]
        },
        {
          "output_type": "stream",
          "name": "stdout",
          "text": [
            "[!] No mask for G1020-820.png, skipping.\n",
            "[!] No mask for G1020-892 (1).png, skipping.\n",
            "[!] No mask for G1020-893 (1).png, skipping.\n",
            "\n",
            "✅ Found 1529 valid image-mask pairs.\n",
            "\n"
          ]
        },
        {
          "output_type": "stream",
          "name": "stderr",
          "text": [
            "/usr/local/lib/python3.11/dist-packages/keras/src/trainers/data_adapters/py_dataset_adapter.py:121: UserWarning: Your `PyDataset` class should call `super().__init__(**kwargs)` in its constructor. `**kwargs` can include `workers`, `use_multiprocessing`, `max_queue_size`. Do not pass these arguments to `fit()`, as they will be ignored.\n",
            "  self._warn_if_super_not_called()\n"
          ]
        },
        {
          "output_type": "stream",
          "name": "stdout",
          "text": [
            "Epoch 1/50\n",
            "\u001b[1m77/77\u001b[0m \u001b[32m━━━━━━━━━━━━━━━━━━━━\u001b[0m\u001b[37m\u001b[0m \u001b[1m0s\u001b[0m 623ms/step - accuracy: 0.8219 - dice_coefficient: 0.2215 - loss: 1.2925\n",
            "Epoch 1: val_dice_coefficient improved from -inf to 0.02027, saving model to best_model.h5\n"
          ]
        },
        {
          "output_type": "stream",
          "name": "stderr",
          "text": [
            "WARNING:absl:You are saving your model as an HDF5 file via `model.save()` or `keras.saving.save_model(model)`. This file format is considered legacy. We recommend using instead the native Keras format, e.g. `model.save('my_model.keras')` or `keras.saving.save_model(model, 'my_model.keras')`. \n"
          ]
        },
        {
          "output_type": "stream",
          "name": "stdout",
          "text": [
            "\b\b\b\b\b\b\b\b\b\b\b\b\b\b\b\b\b\b\b\b\b\b\b\b\b\b\b\b\b\b\b\b\b\b\b\b\b\b\b\b\b\b\b\b\b\b\b\b\b\b\b\b\b\b\b\b\b\b\b\b\b\b\b\b\b\b\b\b\b\b\b\b\b\b\b\b\b\b\b\b\b\b\b\b\b\b\b\b\b\b\b\b\b\b\b\b\b\b\b\b\b\r\u001b[1m77/77\u001b[0m \u001b[32m━━━━━━━━━━━━━━━━━━━━\u001b[0m\u001b[37m\u001b[0m \u001b[1m99s\u001b[0m 781ms/step - accuracy: 0.8235 - dice_coefficient: 0.2224 - loss: 1.2896 - val_accuracy: 0.0904 - val_dice_coefficient: 0.0203 - val_loss: 7.1595\n",
            "Epoch 2/50\n",
            "\u001b[1m77/77\u001b[0m \u001b[32m━━━━━━━━━━━━━━━━━━━━\u001b[0m\u001b[37m\u001b[0m \u001b[1m0s\u001b[0m 318ms/step - accuracy: 0.9895 - dice_coefficient: 0.5663 - loss: 0.6174\n",
            "Epoch 2: val_dice_coefficient did not improve from 0.02027\n",
            "\u001b[1m77/77\u001b[0m \u001b[32m━━━━━━━━━━━━━━━━━━━━\u001b[0m\u001b[37m\u001b[0m \u001b[1m30s\u001b[0m 384ms/step - accuracy: 0.9895 - dice_coefficient: 0.5669 - loss: 0.6165 - val_accuracy: 0.9837 - val_dice_coefficient: 0.0039 - val_loss: 1.2727\n",
            "Epoch 3/50\n",
            "\u001b[1m77/77\u001b[0m \u001b[32m━━━━━━━━━━━━━━━━━━━━\u001b[0m\u001b[37m\u001b[0m \u001b[1m0s\u001b[0m 357ms/step - accuracy: 0.9920 - dice_coefficient: 0.6932 - loss: 0.4081\n",
            "Epoch 3: val_dice_coefficient did not improve from 0.02027\n",
            "\u001b[1m77/77\u001b[0m \u001b[32m━━━━━━━━━━━━━━━━━━━━\u001b[0m\u001b[37m\u001b[0m \u001b[1m33s\u001b[0m 430ms/step - accuracy: 0.9920 - dice_coefficient: 0.6934 - loss: 0.4078 - val_accuracy: 0.9837 - val_dice_coefficient: 0.0024 - val_loss: 1.1111\n",
            "Epoch 4/50\n",
            "\u001b[1m77/77\u001b[0m \u001b[32m━━━━━━━━━━━━━━━━━━━━\u001b[0m\u001b[37m\u001b[0m \u001b[1m0s\u001b[0m 316ms/step - accuracy: 0.9937 - dice_coefficient: 0.7673 - loss: 0.2940\n",
            "Epoch 4: val_dice_coefficient improved from 0.02027 to 0.20521, saving model to best_model.h5\n"
          ]
        },
        {
          "output_type": "stream",
          "name": "stderr",
          "text": [
            "WARNING:absl:You are saving your model as an HDF5 file via `model.save()` or `keras.saving.save_model(model)`. This file format is considered legacy. We recommend using instead the native Keras format, e.g. `model.save('my_model.keras')` or `keras.saving.save_model(model, 'my_model.keras')`. \n"
          ]
        },
        {
          "output_type": "stream",
          "name": "stdout",
          "text": [
            "\b\b\b\b\b\b\b\b\b\b\b\b\b\b\b\b\b\b\b\b\b\b\b\b\b\b\b\b\b\b\b\b\b\b\b\b\b\b\b\b\b\b\b\b\b\b\b\b\b\b\b\b\b\b\b\b\b\b\b\b\b\b\b\b\b\b\b\b\b\b\b\b\b\b\b\b\b\b\b\b\b\b\b\b\b\b\b\b\b\b\b\b\b\b\b\b\b\b\b\b\b\r\u001b[1m77/77\u001b[0m \u001b[32m━━━━━━━━━━━━━━━━━━━━\u001b[0m\u001b[37m\u001b[0m \u001b[1m30s\u001b[0m 386ms/step - accuracy: 0.9937 - dice_coefficient: 0.7674 - loss: 0.2939 - val_accuracy: 0.9863 - val_dice_coefficient: 0.2052 - val_loss: 0.8797\n",
            "Epoch 5/50\n",
            "\u001b[1m77/77\u001b[0m \u001b[32m━━━━━━━━━━━━━━━━━━━━\u001b[0m\u001b[37m\u001b[0m \u001b[1m0s\u001b[0m 328ms/step - accuracy: 0.9944 - dice_coefficient: 0.7926 - loss: 0.2476\n",
            "Epoch 5: val_dice_coefficient improved from 0.20521 to 0.39820, saving model to best_model.h5\n"
          ]
        },
        {
          "output_type": "stream",
          "name": "stderr",
          "text": [
            "WARNING:absl:You are saving your model as an HDF5 file via `model.save()` or `keras.saving.save_model(model)`. This file format is considered legacy. We recommend using instead the native Keras format, e.g. `model.save('my_model.keras')` or `keras.saving.save_model(model, 'my_model.keras')`. \n"
          ]
        },
        {
          "output_type": "stream",
          "name": "stdout",
          "text": [
            "\b\b\b\b\b\b\b\b\b\b\b\b\b\b\b\b\b\b\b\b\b\b\b\b\b\b\b\b\b\b\b\b\b\b\b\b\b\b\b\b\b\b\b\b\b\b\b\b\b\b\b\b\b\b\b\b\b\b\b\b\b\b\b\b\b\b\b\b\b\b\b\b\b\b\b\b\b\b\b\b\b\b\b\b\b\b\b\b\b\b\b\b\b\b\b\b\b\b\b\b\b\r\u001b[1m77/77\u001b[0m \u001b[32m━━━━━━━━━━━━━━━━━━━━\u001b[0m\u001b[37m\u001b[0m \u001b[1m31s\u001b[0m 399ms/step - accuracy: 0.9944 - dice_coefficient: 0.7929 - loss: 0.2472 - val_accuracy: 0.9892 - val_dice_coefficient: 0.3982 - val_loss: 0.6516\n",
            "Epoch 6/50\n",
            "\u001b[1m77/77\u001b[0m \u001b[32m━━━━━━━━━━━━━━━━━━━━\u001b[0m\u001b[37m\u001b[0m \u001b[1m0s\u001b[0m 316ms/step - accuracy: 0.9956 - dice_coefficient: 0.8381 - loss: 0.1914\n",
            "Epoch 6: val_dice_coefficient improved from 0.39820 to 0.52998, saving model to best_model.h5\n"
          ]
        },
        {
          "output_type": "stream",
          "name": "stderr",
          "text": [
            "WARNING:absl:You are saving your model as an HDF5 file via `model.save()` or `keras.saving.save_model(model)`. This file format is considered legacy. We recommend using instead the native Keras format, e.g. `model.save('my_model.keras')` or `keras.saving.save_model(model, 'my_model.keras')`. \n"
          ]
        },
        {
          "output_type": "stream",
          "name": "stdout",
          "text": [
            "\b\b\b\b\b\b\b\b\b\b\b\b\b\b\b\b\b\b\b\b\b\b\b\b\b\b\b\b\b\b\b\b\b\b\b\b\b\b\b\b\b\b\b\b\b\b\b\b\b\b\b\b\b\b\b\b\b\b\b\b\b\b\b\b\b\b\b\b\b\b\b\b\b\b\b\b\b\b\b\b\b\b\b\b\b\b\b\b\b\b\b\b\b\b\b\b\b\b\b\b\b\r\u001b[1m77/77\u001b[0m \u001b[32m━━━━━━━━━━━━━━━━━━━━\u001b[0m\u001b[37m\u001b[0m \u001b[1m35s\u001b[0m 454ms/step - accuracy: 0.9956 - dice_coefficient: 0.8380 - loss: 0.1915 - val_accuracy: 0.9909 - val_dice_coefficient: 0.5300 - val_loss: 0.5288\n",
            "Epoch 7/50\n",
            "\u001b[1m77/77\u001b[0m \u001b[32m━━━━━━━━━━━━━━━━━━━━\u001b[0m\u001b[37m\u001b[0m \u001b[1m0s\u001b[0m 308ms/step - accuracy: 0.9957 - dice_coefficient: 0.8401 - loss: 0.1843\n",
            "Epoch 7: val_dice_coefficient improved from 0.52998 to 0.53608, saving model to best_model.h5\n"
          ]
        },
        {
          "output_type": "stream",
          "name": "stderr",
          "text": [
            "WARNING:absl:You are saving your model as an HDF5 file via `model.save()` or `keras.saving.save_model(model)`. This file format is considered legacy. We recommend using instead the native Keras format, e.g. `model.save('my_model.keras')` or `keras.saving.save_model(model, 'my_model.keras')`. \n"
          ]
        },
        {
          "output_type": "stream",
          "name": "stdout",
          "text": [
            "\b\b\b\b\b\b\b\b\b\b\b\b\b\b\b\b\b\b\b\b\b\b\b\b\b\b\b\b\b\b\b\b\b\b\b\b\b\b\b\b\b\b\b\b\b\b\b\b\b\b\b\b\b\b\b\b\b\b\b\b\b\b\b\b\b\b\b\b\b\b\b\b\b\b\b\b\b\b\b\b\b\b\b\b\b\b\b\b\b\b\b\b\b\b\b\b\b\b\b\b\b\r\u001b[1m77/77\u001b[0m \u001b[32m━━━━━━━━━━━━━━━━━━━━\u001b[0m\u001b[37m\u001b[0m \u001b[1m36s\u001b[0m 382ms/step - accuracy: 0.9957 - dice_coefficient: 0.8403 - loss: 0.1841 - val_accuracy: 0.9915 - val_dice_coefficient: 0.5361 - val_loss: 0.5035\n",
            "Epoch 8/50\n",
            "\u001b[1m77/77\u001b[0m \u001b[32m━━━━━━━━━━━━━━━━━━━━\u001b[0m\u001b[37m\u001b[0m \u001b[1m0s\u001b[0m 310ms/step - accuracy: 0.9962 - dice_coefficient: 0.8605 - loss: 0.1588\n",
            "Epoch 8: val_dice_coefficient improved from 0.53608 to 0.73891, saving model to best_model.h5\n"
          ]
        },
        {
          "output_type": "stream",
          "name": "stderr",
          "text": [
            "WARNING:absl:You are saving your model as an HDF5 file via `model.save()` or `keras.saving.save_model(model)`. This file format is considered legacy. We recommend using instead the native Keras format, e.g. `model.save('my_model.keras')` or `keras.saving.save_model(model, 'my_model.keras')`. \n"
          ]
        },
        {
          "output_type": "stream",
          "name": "stdout",
          "text": [
            "\b\b\b\b\b\b\b\b\b\b\b\b\b\b\b\b\b\b\b\b\b\b\b\b\b\b\b\b\b\b\b\b\b\b\b\b\b\b\b\b\b\b\b\b\b\b\b\b\b\b\b\b\b\b\b\b\b\b\b\b\b\b\b\b\b\b\b\b\b\b\b\b\b\b\b\b\b\b\b\b\b\b\b\b\b\b\b\b\b\b\b\b\b\b\b\b\b\b\b\b\b\r\u001b[1m77/77\u001b[0m \u001b[32m━━━━━━━━━━━━━━━━━━━━\u001b[0m\u001b[37m\u001b[0m \u001b[1m41s\u001b[0m 385ms/step - accuracy: 0.9962 - dice_coefficient: 0.8606 - loss: 0.1586 - val_accuracy: 0.9942 - val_dice_coefficient: 0.7389 - val_loss: 0.2919\n",
            "Epoch 9/50\n",
            "\u001b[1m77/77\u001b[0m \u001b[32m━━━━━━━━━━━━━━━━━━━━\u001b[0m\u001b[37m\u001b[0m \u001b[1m0s\u001b[0m 317ms/step - accuracy: 0.9964 - dice_coefficient: 0.8784 - loss: 0.1383\n",
            "Epoch 9: val_dice_coefficient did not improve from 0.73891\n",
            "\u001b[1m77/77\u001b[0m \u001b[32m━━━━━━━━━━━━━━━━━━━━\u001b[0m\u001b[37m\u001b[0m \u001b[1m30s\u001b[0m 384ms/step - accuracy: 0.9964 - dice_coefficient: 0.8784 - loss: 0.1383 - val_accuracy: 0.9942 - val_dice_coefficient: 0.7319 - val_loss: 0.2979\n",
            "Epoch 10/50\n",
            "\u001b[1m77/77\u001b[0m \u001b[32m━━━━━━━━━━━━━━━━━━━━\u001b[0m\u001b[37m\u001b[0m \u001b[1m0s\u001b[0m 321ms/step - accuracy: 0.9967 - dice_coefficient: 0.8890 - loss: 0.1253\n",
            "Epoch 10: val_dice_coefficient improved from 0.73891 to 0.82145, saving model to best_model.h5\n"
          ]
        },
        {
          "output_type": "stream",
          "name": "stderr",
          "text": [
            "WARNING:absl:You are saving your model as an HDF5 file via `model.save()` or `keras.saving.save_model(model)`. This file format is considered legacy. We recommend using instead the native Keras format, e.g. `model.save('my_model.keras')` or `keras.saving.save_model(model, 'my_model.keras')`. \n"
          ]
        },
        {
          "output_type": "stream",
          "name": "stdout",
          "text": [
            "\b\b\b\b\b\b\b\b\b\b\b\b\b\b\b\b\b\b\b\b\b\b\b\b\b\b\b\b\b\b\b\b\b\b\b\b\b\b\b\b\b\b\b\b\b\b\b\b\b\b\b\b\b\b\b\b\b\b\b\b\b\b\b\b\b\b\b\b\b\b\b\b\b\b\b\b\b\b\b\b\b\b\b\b\b\b\b\b\b\b\b\b\b\b\b\b\b\b\b\b\b\r\u001b[1m77/77\u001b[0m \u001b[32m━━━━━━━━━━━━━━━━━━━━\u001b[0m\u001b[37m\u001b[0m \u001b[1m30s\u001b[0m 391ms/step - accuracy: 0.9967 - dice_coefficient: 0.8890 - loss: 0.1253 - val_accuracy: 0.9958 - val_dice_coefficient: 0.8214 - val_loss: 0.2018\n",
            "Epoch 11/50\n",
            "\u001b[1m77/77\u001b[0m \u001b[32m━━━━━━━━━━━━━━━━━━━━\u001b[0m\u001b[37m\u001b[0m \u001b[1m0s\u001b[0m 320ms/step - accuracy: 0.9971 - dice_coefficient: 0.8992 - loss: 0.1134\n",
            "Epoch 11: val_dice_coefficient improved from 0.82145 to 0.86881, saving model to best_model.h5\n"
          ]
        },
        {
          "output_type": "stream",
          "name": "stderr",
          "text": [
            "WARNING:absl:You are saving your model as an HDF5 file via `model.save()` or `keras.saving.save_model(model)`. This file format is considered legacy. We recommend using instead the native Keras format, e.g. `model.save('my_model.keras')` or `keras.saving.save_model(model, 'my_model.keras')`. \n"
          ]
        },
        {
          "output_type": "stream",
          "name": "stdout",
          "text": [
            "\b\b\b\b\b\b\b\b\b\b\b\b\b\b\b\b\b\b\b\b\b\b\b\b\b\b\b\b\b\b\b\b\b\b\b\b\b\b\b\b\b\b\b\b\b\b\b\b\b\b\b\b\b\b\b\b\b\b\b\b\b\b\b\b\b\b\b\b\b\b\b\b\b\b\b\b\b\b\b\b\b\b\b\b\b\b\b\b\b\b\b\b\b\b\b\b\b\b\b\b\b\r\u001b[1m77/77\u001b[0m \u001b[32m━━━━━━━━━━━━━━━━━━━━\u001b[0m\u001b[37m\u001b[0m \u001b[1m35s\u001b[0m 458ms/step - accuracy: 0.9971 - dice_coefficient: 0.8991 - loss: 0.1134 - val_accuracy: 0.9965 - val_dice_coefficient: 0.8688 - val_loss: 0.1485\n",
            "Epoch 12/50\n",
            "\u001b[1m77/77\u001b[0m \u001b[32m━━━━━━━━━━━━━━━━━━━━\u001b[0m\u001b[37m\u001b[0m \u001b[1m0s\u001b[0m 315ms/step - accuracy: 0.9971 - dice_coefficient: 0.9034 - loss: 0.1085\n",
            "Epoch 12: val_dice_coefficient did not improve from 0.86881\n",
            "\u001b[1m77/77\u001b[0m \u001b[32m━━━━━━━━━━━━━━━━━━━━\u001b[0m\u001b[37m\u001b[0m \u001b[1m30s\u001b[0m 382ms/step - accuracy: 0.9971 - dice_coefficient: 0.9034 - loss: 0.1084 - val_accuracy: 0.9963 - val_dice_coefficient: 0.8422 - val_loss: 0.1773\n",
            "Epoch 13/50\n",
            "\u001b[1m77/77\u001b[0m \u001b[32m━━━━━━━━━━━━━━━━━━━━\u001b[0m\u001b[37m\u001b[0m \u001b[1m0s\u001b[0m 316ms/step - accuracy: 0.9974 - dice_coefficient: 0.9142 - loss: 0.0959\n",
            "Epoch 13: val_dice_coefficient improved from 0.86881 to 0.88486, saving model to best_model.h5\n"
          ]
        },
        {
          "output_type": "stream",
          "name": "stderr",
          "text": [
            "WARNING:absl:You are saving your model as an HDF5 file via `model.save()` or `keras.saving.save_model(model)`. This file format is considered legacy. We recommend using instead the native Keras format, e.g. `model.save('my_model.keras')` or `keras.saving.save_model(model, 'my_model.keras')`. \n"
          ]
        },
        {
          "output_type": "stream",
          "name": "stdout",
          "text": [
            "\b\b\b\b\b\b\b\b\b\b\b\b\b\b\b\b\b\b\b\b\b\b\b\b\b\b\b\b\b\b\b\b\b\b\b\b\b\b\b\b\b\b\b\b\b\b\b\b\b\b\b\b\b\b\b\b\b\b\b\b\b\b\b\b\b\b\b\b\b\b\b\b\b\b\b\b\b\b\b\b\b\b\b\b\b\b\b\b\b\b\b\b\b\b\b\b\b\b\b\b\b\r\u001b[1m77/77\u001b[0m \u001b[32m━━━━━━━━━━━━━━━━━━━━\u001b[0m\u001b[37m\u001b[0m \u001b[1m30s\u001b[0m 387ms/step - accuracy: 0.9974 - dice_coefficient: 0.9142 - loss: 0.0959 - val_accuracy: 0.9970 - val_dice_coefficient: 0.8849 - val_loss: 0.1306\n",
            "Epoch 14/50\n",
            "\u001b[1m77/77\u001b[0m \u001b[32m━━━━━━━━━━━━━━━━━━━━\u001b[0m\u001b[37m\u001b[0m \u001b[1m0s\u001b[0m 312ms/step - accuracy: 0.9973 - dice_coefficient: 0.9119 - loss: 0.0976\n",
            "Epoch 14: val_dice_coefficient did not improve from 0.88486\n",
            "\u001b[1m77/77\u001b[0m \u001b[32m━━━━━━━━━━━━━━━━━━━━\u001b[0m\u001b[37m\u001b[0m \u001b[1m30s\u001b[0m 385ms/step - accuracy: 0.9973 - dice_coefficient: 0.9119 - loss: 0.0975 - val_accuracy: 0.9956 - val_dice_coefficient: 0.8141 - val_loss: 0.2054\n",
            "Epoch 15/50\n",
            "\u001b[1m77/77\u001b[0m \u001b[32m━━━━━━━━━━━━━━━━━━━━\u001b[0m\u001b[37m\u001b[0m \u001b[1m0s\u001b[0m 314ms/step - accuracy: 0.9977 - dice_coefficient: 0.9273 - loss: 0.0807\n",
            "Epoch 15: val_dice_coefficient did not improve from 0.88486\n",
            "\u001b[1m77/77\u001b[0m \u001b[32m━━━━━━━━━━━━━━━━━━━━\u001b[0m\u001b[37m\u001b[0m \u001b[1m30s\u001b[0m 385ms/step - accuracy: 0.9977 - dice_coefficient: 0.9273 - loss: 0.0807 - val_accuracy: 0.9968 - val_dice_coefficient: 0.8756 - val_loss: 0.1380\n",
            "Epoch 16/50\n",
            "\u001b[1m77/77\u001b[0m \u001b[32m━━━━━━━━━━━━━━━━━━━━\u001b[0m\u001b[37m\u001b[0m \u001b[1m0s\u001b[0m 316ms/step - accuracy: 0.9974 - dice_coefficient: 0.9170 - loss: 0.0915\n",
            "Epoch 16: val_dice_coefficient improved from 0.88486 to 0.89697, saving model to best_model.h5\n"
          ]
        },
        {
          "output_type": "stream",
          "name": "stderr",
          "text": [
            "WARNING:absl:You are saving your model as an HDF5 file via `model.save()` or `keras.saving.save_model(model)`. This file format is considered legacy. We recommend using instead the native Keras format, e.g. `model.save('my_model.keras')` or `keras.saving.save_model(model, 'my_model.keras')`. \n"
          ]
        },
        {
          "output_type": "stream",
          "name": "stdout",
          "text": [
            "\b\b\b\b\b\b\b\b\b\b\b\b\b\b\b\b\b\b\b\b\b\b\b\b\b\b\b\b\b\b\b\b\b\b\b\b\b\b\b\b\b\b\b\b\b\b\b\b\b\b\b\b\b\b\b\b\b\b\b\b\b\b\b\b\b\b\b\b\b\b\b\b\b\b\b\b\b\b\b\b\b\b\b\b\b\b\b\b\b\b\b\b\b\b\b\b\b\b\b\b\b\r\u001b[1m77/77\u001b[0m \u001b[32m━━━━━━━━━━━━━━━━━━━━\u001b[0m\u001b[37m\u001b[0m \u001b[1m30s\u001b[0m 385ms/step - accuracy: 0.9974 - dice_coefficient: 0.9170 - loss: 0.0915 - val_accuracy: 0.9971 - val_dice_coefficient: 0.8970 - val_loss: 0.1151\n",
            "Epoch 17/50\n",
            "\u001b[1m77/77\u001b[0m \u001b[32m━━━━━━━━━━━━━━━━━━━━\u001b[0m\u001b[37m\u001b[0m \u001b[1m0s\u001b[0m 310ms/step - accuracy: 0.9975 - dice_coefficient: 0.9142 - loss: 0.0940\n",
            "Epoch 17: val_dice_coefficient improved from 0.89697 to 0.90137, saving model to best_model.h5\n"
          ]
        },
        {
          "output_type": "stream",
          "name": "stderr",
          "text": [
            "WARNING:absl:You are saving your model as an HDF5 file via `model.save()` or `keras.saving.save_model(model)`. This file format is considered legacy. We recommend using instead the native Keras format, e.g. `model.save('my_model.keras')` or `keras.saving.save_model(model, 'my_model.keras')`. \n"
          ]
        },
        {
          "output_type": "stream",
          "name": "stdout",
          "text": [
            "\b\b\b\b\b\b\b\b\b\b\b\b\b\b\b\b\b\b\b\b\b\b\b\b\b\b\b\b\b\b\b\b\b\b\b\b\b\b\b\b\b\b\b\b\b\b\b\b\b\b\b\b\b\b\b\b\b\b\b\b\b\b\b\b\b\b\b\b\b\b\b\b\b\b\b\b\b\b\b\b\b\b\b\b\b\b\b\b\b\b\b\b\b\b\b\b\b\b\b\b\b\r\u001b[1m77/77\u001b[0m \u001b[32m━━━━━━━━━━━━━━━━━━━━\u001b[0m\u001b[37m\u001b[0m \u001b[1m29s\u001b[0m 379ms/step - accuracy: 0.9975 - dice_coefficient: 0.9143 - loss: 0.0939 - val_accuracy: 0.9974 - val_dice_coefficient: 0.9014 - val_loss: 0.1096\n",
            "Epoch 18/50\n",
            "\u001b[1m77/77\u001b[0m \u001b[32m━━━━━━━━━━━━━━━━━━━━\u001b[0m\u001b[37m\u001b[0m \u001b[1m0s\u001b[0m 315ms/step - accuracy: 0.9978 - dice_coefficient: 0.9298 - loss: 0.0773\n",
            "Epoch 18: val_dice_coefficient improved from 0.90137 to 0.92023, saving model to best_model.h5\n"
          ]
        },
        {
          "output_type": "stream",
          "name": "stderr",
          "text": [
            "WARNING:absl:You are saving your model as an HDF5 file via `model.save()` or `keras.saving.save_model(model)`. This file format is considered legacy. We recommend using instead the native Keras format, e.g. `model.save('my_model.keras')` or `keras.saving.save_model(model, 'my_model.keras')`. \n"
          ]
        },
        {
          "output_type": "stream",
          "name": "stdout",
          "text": [
            "\b\b\b\b\b\b\b\b\b\b\b\b\b\b\b\b\b\b\b\b\b\b\b\b\b\b\b\b\b\b\b\b\b\b\b\b\b\b\b\b\b\b\b\b\b\b\b\b\b\b\b\b\b\b\b\b\b\b\b\b\b\b\b\b\b\b\b\b\b\b\b\b\b\b\b\b\b\b\b\b\b\b\b\b\b\b\b\b\b\b\b\b\b\b\b\b\b\b\b\b\b\r\u001b[1m77/77\u001b[0m \u001b[32m━━━━━━━━━━━━━━━━━━━━\u001b[0m\u001b[37m\u001b[0m \u001b[1m30s\u001b[0m 390ms/step - accuracy: 0.9978 - dice_coefficient: 0.9297 - loss: 0.0774 - val_accuracy: 0.9976 - val_dice_coefficient: 0.9202 - val_loss: 0.0897\n",
            "Epoch 19/50\n",
            "\u001b[1m77/77\u001b[0m \u001b[32m━━━━━━━━━━━━━━━━━━━━\u001b[0m\u001b[37m\u001b[0m \u001b[1m0s\u001b[0m 308ms/step - accuracy: 0.9978 - dice_coefficient: 0.9277 - loss: 0.0792\n",
            "Epoch 19: val_dice_coefficient did not improve from 0.92023\n",
            "\u001b[1m77/77\u001b[0m \u001b[32m━━━━━━━━━━━━━━━━━━━━\u001b[0m\u001b[37m\u001b[0m \u001b[1m45s\u001b[0m 443ms/step - accuracy: 0.9978 - dice_coefficient: 0.9277 - loss: 0.0792 - val_accuracy: 0.9957 - val_dice_coefficient: 0.8141 - val_loss: 0.2050\n",
            "Epoch 20/50\n",
            "\u001b[1m77/77\u001b[0m \u001b[32m━━━━━━━━━━━━━━━━━━━━\u001b[0m\u001b[37m\u001b[0m \u001b[1m0s\u001b[0m 318ms/step - accuracy: 0.9979 - dice_coefficient: 0.9307 - loss: 0.0757\n",
            "Epoch 20: val_dice_coefficient did not improve from 0.92023\n",
            "\u001b[1m77/77\u001b[0m \u001b[32m━━━━━━━━━━━━━━━━━━━━\u001b[0m\u001b[37m\u001b[0m \u001b[1m30s\u001b[0m 385ms/step - accuracy: 0.9979 - dice_coefficient: 0.9306 - loss: 0.0758 - val_accuracy: 0.9970 - val_dice_coefficient: 0.8800 - val_loss: 0.1323\n",
            "Epoch 21/50\n",
            "\u001b[1m77/77\u001b[0m \u001b[32m━━━━━━━━━━━━━━━━━━━━\u001b[0m\u001b[37m\u001b[0m \u001b[1m0s\u001b[0m 310ms/step - accuracy: 0.9977 - dice_coefficient: 0.9251 - loss: 0.0821\n",
            "Epoch 21: val_dice_coefficient did not improve from 0.92023\n",
            "\u001b[1m77/77\u001b[0m \u001b[32m━━━━━━━━━━━━━━━━━━━━\u001b[0m\u001b[37m\u001b[0m \u001b[1m29s\u001b[0m 378ms/step - accuracy: 0.9977 - dice_coefficient: 0.9251 - loss: 0.0821 - val_accuracy: 0.9974 - val_dice_coefficient: 0.9027 - val_loss: 0.1078\n",
            "Epoch 22/50\n",
            "\u001b[1m77/77\u001b[0m \u001b[32m━━━━━━━━━━━━━━━━━━━━\u001b[0m\u001b[37m\u001b[0m \u001b[1m0s\u001b[0m 315ms/step - accuracy: 0.9979 - dice_coefficient: 0.9334 - loss: 0.0727\n",
            "Epoch 22: val_dice_coefficient did not improve from 0.92023\n",
            "\u001b[1m77/77\u001b[0m \u001b[32m━━━━━━━━━━━━━━━━━━━━\u001b[0m\u001b[37m\u001b[0m \u001b[1m46s\u001b[0m 450ms/step - accuracy: 0.9979 - dice_coefficient: 0.9334 - loss: 0.0728 - val_accuracy: 0.9944 - val_dice_coefficient: 0.7266 - val_loss: 0.2962\n",
            "Epoch 23/50\n",
            "\u001b[1m77/77\u001b[0m \u001b[32m━━━━━━━━━━━━━━━━━━━━\u001b[0m\u001b[37m\u001b[0m \u001b[1m0s\u001b[0m 312ms/step - accuracy: 0.9978 - dice_coefficient: 0.9294 - loss: 0.0769\n",
            "Epoch 23: val_dice_coefficient did not improve from 0.92023\n",
            "\u001b[1m77/77\u001b[0m \u001b[32m━━━━━━━━━━━━━━━━━━━━\u001b[0m\u001b[37m\u001b[0m \u001b[1m29s\u001b[0m 378ms/step - accuracy: 0.9978 - dice_coefficient: 0.9294 - loss: 0.0769 - val_accuracy: 0.9974 - val_dice_coefficient: 0.8967 - val_loss: 0.1138\n",
            "Epoch 24/50\n",
            "\u001b[1m77/77\u001b[0m \u001b[32m━━━━━━━━━━━━━━━━━━━━\u001b[0m\u001b[37m\u001b[0m \u001b[1m0s\u001b[0m 314ms/step - accuracy: 0.9980 - dice_coefficient: 0.9359 - loss: 0.0698\n",
            "Epoch 24: val_dice_coefficient did not improve from 0.92023\n",
            "\u001b[1m77/77\u001b[0m \u001b[32m━━━━━━━━━━━━━━━━━━━━\u001b[0m\u001b[37m\u001b[0m \u001b[1m30s\u001b[0m 382ms/step - accuracy: 0.9980 - dice_coefficient: 0.9359 - loss: 0.0698 - val_accuracy: 0.9965 - val_dice_coefficient: 0.8546 - val_loss: 0.1608\n",
            "Epoch 25/50\n",
            "\u001b[1m77/77\u001b[0m \u001b[32m━━━━━━━━━━━━━━━━━━━━\u001b[0m\u001b[37m\u001b[0m \u001b[1m0s\u001b[0m 313ms/step - accuracy: 0.9977 - dice_coefficient: 0.9223 - loss: 0.0843\n",
            "Epoch 25: val_dice_coefficient did not improve from 0.92023\n",
            "\u001b[1m77/77\u001b[0m \u001b[32m━━━━━━━━━━━━━━━━━━━━\u001b[0m\u001b[37m\u001b[0m \u001b[1m41s\u001b[0m 384ms/step - accuracy: 0.9977 - dice_coefficient: 0.9224 - loss: 0.0843 - val_accuracy: 0.9967 - val_dice_coefficient: 0.8496 - val_loss: 0.1658\n",
            "Epoch 26/50\n",
            "\u001b[1m77/77\u001b[0m \u001b[32m━━━━━━━━━━━━━━━━━━━━\u001b[0m\u001b[37m\u001b[0m \u001b[1m0s\u001b[0m 315ms/step - accuracy: 0.9980 - dice_coefficient: 0.9348 - loss: 0.0713\n",
            "Epoch 26: val_dice_coefficient did not improve from 0.92023\n",
            "\u001b[1m77/77\u001b[0m \u001b[32m━━━━━━━━━━━━━━━━━━━━\u001b[0m\u001b[37m\u001b[0m \u001b[1m30s\u001b[0m 390ms/step - accuracy: 0.9980 - dice_coefficient: 0.9348 - loss: 0.0713 - val_accuracy: 0.9976 - val_dice_coefficient: 0.9155 - val_loss: 0.0940\n",
            "Epoch 27/50\n",
            "\u001b[1m77/77\u001b[0m \u001b[32m━━━━━━━━━━━━━━━━━━━━\u001b[0m\u001b[37m\u001b[0m \u001b[1m0s\u001b[0m 312ms/step - accuracy: 0.9981 - dice_coefficient: 0.9383 - loss: 0.0671\n",
            "Epoch 27: val_dice_coefficient improved from 0.92023 to 0.92447, saving model to best_model.h5\n"
          ]
        },
        {
          "output_type": "stream",
          "name": "stderr",
          "text": [
            "WARNING:absl:You are saving your model as an HDF5 file via `model.save()` or `keras.saving.save_model(model)`. This file format is considered legacy. We recommend using instead the native Keras format, e.g. `model.save('my_model.keras')` or `keras.saving.save_model(model, 'my_model.keras')`. \n"
          ]
        },
        {
          "output_type": "stream",
          "name": "stdout",
          "text": [
            "\b\b\b\b\b\b\b\b\b\b\b\b\b\b\b\b\b\b\b\b\b\b\b\b\b\b\b\b\b\b\b\b\b\b\b\b\b\b\b\b\b\b\b\b\b\b\b\b\b\b\b\b\b\b\b\b\b\b\b\b\b\b\b\b\b\b\b\b\b\b\b\b\b\b\b\b\b\b\b\b\b\b\b\b\b\b\b\b\b\b\b\b\b\b\b\b\b\b\b\b\b\r\u001b[1m77/77\u001b[0m \u001b[32m━━━━━━━━━━━━━━━━━━━━\u001b[0m\u001b[37m\u001b[0m \u001b[1m30s\u001b[0m 381ms/step - accuracy: 0.9981 - dice_coefficient: 0.9383 - loss: 0.0671 - val_accuracy: 0.9978 - val_dice_coefficient: 0.9245 - val_loss: 0.0844\n",
            "Epoch 28/50\n",
            "\u001b[1m77/77\u001b[0m \u001b[32m━━━━━━━━━━━━━━━━━━━━\u001b[0m\u001b[37m\u001b[0m \u001b[1m0s\u001b[0m 314ms/step - accuracy: 0.9982 - dice_coefficient: 0.9424 - loss: 0.0625\n",
            "Epoch 28: val_dice_coefficient did not improve from 0.92447\n",
            "\u001b[1m77/77\u001b[0m \u001b[32m━━━━━━━━━━━━━━━━━━━━\u001b[0m\u001b[37m\u001b[0m \u001b[1m29s\u001b[0m 380ms/step - accuracy: 0.9982 - dice_coefficient: 0.9424 - loss: 0.0625 - val_accuracy: 0.9975 - val_dice_coefficient: 0.9121 - val_loss: 0.0973\n",
            "Epoch 29/50\n",
            "\u001b[1m77/77\u001b[0m \u001b[32m━━━━━━━━━━━━━━━━━━━━\u001b[0m\u001b[37m\u001b[0m \u001b[1m0s\u001b[0m 309ms/step - accuracy: 0.9982 - dice_coefficient: 0.9406 - loss: 0.0644\n",
            "Epoch 29: val_dice_coefficient improved from 0.92447 to 0.92796, saving model to best_model.h5\n"
          ]
        },
        {
          "output_type": "stream",
          "name": "stderr",
          "text": [
            "WARNING:absl:You are saving your model as an HDF5 file via `model.save()` or `keras.saving.save_model(model)`. This file format is considered legacy. We recommend using instead the native Keras format, e.g. `model.save('my_model.keras')` or `keras.saving.save_model(model, 'my_model.keras')`. \n"
          ]
        },
        {
          "output_type": "stream",
          "name": "stdout",
          "text": [
            "\b\b\b\b\b\b\b\b\b\b\b\b\b\b\b\b\b\b\b\b\b\b\b\b\b\b\b\b\b\b\b\b\b\b\b\b\b\b\b\b\b\b\b\b\b\b\b\b\b\b\b\b\b\b\b\b\b\b\b\b\b\b\b\b\b\b\b\b\b\b\b\b\b\b\b\b\b\b\b\b\b\b\b\b\b\b\b\b\b\b\b\b\b\b\b\b\b\b\b\b\b\r\u001b[1m77/77\u001b[0m \u001b[32m━━━━━━━━━━━━━━━━━━━━\u001b[0m\u001b[37m\u001b[0m \u001b[1m35s\u001b[0m 447ms/step - accuracy: 0.9982 - dice_coefficient: 0.9406 - loss: 0.0644 - val_accuracy: 0.9977 - val_dice_coefficient: 0.9280 - val_loss: 0.0806\n",
            "Epoch 30/50\n",
            "\u001b[1m77/77\u001b[0m \u001b[32m━━━━━━━━━━━━━━━━━━━━\u001b[0m\u001b[37m\u001b[0m \u001b[1m0s\u001b[0m 313ms/step - accuracy: 0.9981 - dice_coefficient: 0.9404 - loss: 0.0647\n",
            "Epoch 30: val_dice_coefficient did not improve from 0.92796\n",
            "\u001b[1m77/77\u001b[0m \u001b[32m━━━━━━━━━━━━━━━━━━━━\u001b[0m\u001b[37m\u001b[0m \u001b[1m29s\u001b[0m 379ms/step - accuracy: 0.9981 - dice_coefficient: 0.9404 - loss: 0.0648 - val_accuracy: 0.9977 - val_dice_coefficient: 0.9255 - val_loss: 0.0828\n",
            "Epoch 31/50\n",
            "\u001b[1m77/77\u001b[0m \u001b[32m━━━━━━━━━━━━━━━━━━━━\u001b[0m\u001b[37m\u001b[0m \u001b[1m0s\u001b[0m 312ms/step - accuracy: 0.9982 - dice_coefficient: 0.9426 - loss: 0.0622\n",
            "Epoch 31: val_dice_coefficient did not improve from 0.92796\n",
            "\u001b[1m77/77\u001b[0m \u001b[32m━━━━━━━━━━━━━━━━━━━━\u001b[0m\u001b[37m\u001b[0m \u001b[1m29s\u001b[0m 378ms/step - accuracy: 0.9982 - dice_coefficient: 0.9426 - loss: 0.0623 - val_accuracy: 0.9976 - val_dice_coefficient: 0.9216 - val_loss: 0.0862\n",
            "Epoch 32/50\n",
            "\u001b[1m77/77\u001b[0m \u001b[32m━━━━━━━━━━━━━━━━━━━━\u001b[0m\u001b[37m\u001b[0m \u001b[1m0s\u001b[0m 317ms/step - accuracy: 0.9980 - dice_coefficient: 0.9376 - loss: 0.0675\n",
            "Epoch 32: val_dice_coefficient did not improve from 0.92796\n",
            "\u001b[1m77/77\u001b[0m \u001b[32m━━━━━━━━━━━━━━━━━━━━\u001b[0m\u001b[37m\u001b[0m \u001b[1m35s\u001b[0m 451ms/step - accuracy: 0.9980 - dice_coefficient: 0.9376 - loss: 0.0675 - val_accuracy: 0.9978 - val_dice_coefficient: 0.9245 - val_loss: 0.0842\n",
            "Epoch 33/50\n",
            "\u001b[1m77/77\u001b[0m \u001b[32m━━━━━━━━━━━━━━━━━━━━\u001b[0m\u001b[37m\u001b[0m \u001b[1m0s\u001b[0m 310ms/step - accuracy: 0.9981 - dice_coefficient: 0.9395 - loss: 0.0655\n",
            "Epoch 33: val_dice_coefficient did not improve from 0.92796\n",
            "\u001b[1m77/77\u001b[0m \u001b[32m━━━━━━━━━━━━━━━━━━━━\u001b[0m\u001b[37m\u001b[0m \u001b[1m29s\u001b[0m 377ms/step - accuracy: 0.9981 - dice_coefficient: 0.9394 - loss: 0.0656 - val_accuracy: 0.9976 - val_dice_coefficient: 0.9190 - val_loss: 0.0902\n",
            "Epoch 34/50\n",
            "\u001b[1m77/77\u001b[0m \u001b[32m━━━━━━━━━━━━━━━━━━━━\u001b[0m\u001b[37m\u001b[0m \u001b[1m0s\u001b[0m 311ms/step - accuracy: 0.9980 - dice_coefficient: 0.9378 - loss: 0.0674\n",
            "Epoch 34: val_dice_coefficient did not improve from 0.92796\n",
            "\u001b[1m77/77\u001b[0m \u001b[32m━━━━━━━━━━━━━━━━━━━━\u001b[0m\u001b[37m\u001b[0m \u001b[1m41s\u001b[0m 377ms/step - accuracy: 0.9980 - dice_coefficient: 0.9379 - loss: 0.0673 - val_accuracy: 0.9977 - val_dice_coefficient: 0.9254 - val_loss: 0.0829\n",
            "Epoch 35/50\n",
            "\u001b[1m77/77\u001b[0m \u001b[32m━━━━━━━━━━━━━━━━━━━━\u001b[0m\u001b[37m\u001b[0m \u001b[1m0s\u001b[0m 313ms/step - accuracy: 0.9981 - dice_coefficient: 0.9392 - loss: 0.0657\n",
            "Epoch 35: val_dice_coefficient did not improve from 0.92796\n",
            "\u001b[1m77/77\u001b[0m \u001b[32m━━━━━━━━━━━━━━━━━━━━\u001b[0m\u001b[37m\u001b[0m \u001b[1m30s\u001b[0m 382ms/step - accuracy: 0.9981 - dice_coefficient: 0.9392 - loss: 0.0657 - val_accuracy: 0.9978 - val_dice_coefficient: 0.9272 - val_loss: 0.0807\n",
            "Epoch 36/50\n",
            "\u001b[1m77/77\u001b[0m \u001b[32m━━━━━━━━━━━━━━━━━━━━\u001b[0m\u001b[37m\u001b[0m \u001b[1m0s\u001b[0m 310ms/step - accuracy: 0.9980 - dice_coefficient: 0.9361 - loss: 0.0691\n",
            "Epoch 36: val_dice_coefficient did not improve from 0.92796\n",
            "\u001b[1m77/77\u001b[0m \u001b[32m━━━━━━━━━━━━━━━━━━━━\u001b[0m\u001b[37m\u001b[0m \u001b[1m46s\u001b[0m 445ms/step - accuracy: 0.9980 - dice_coefficient: 0.9361 - loss: 0.0690 - val_accuracy: 0.9978 - val_dice_coefficient: 0.9270 - val_loss: 0.0809\n",
            "Epoch 37/50\n",
            "\u001b[1m77/77\u001b[0m \u001b[32m━━━━━━━━━━━━━━━━━━━━\u001b[0m\u001b[37m\u001b[0m \u001b[1m0s\u001b[0m 311ms/step - accuracy: 0.9982 - dice_coefficient: 0.9424 - loss: 0.0622\n",
            "Epoch 37: val_dice_coefficient did not improve from 0.92796\n",
            "\u001b[1m77/77\u001b[0m \u001b[32m━━━━━━━━━━━━━━━━━━━━\u001b[0m\u001b[37m\u001b[0m \u001b[1m29s\u001b[0m 377ms/step - accuracy: 0.9982 - dice_coefficient: 0.9424 - loss: 0.0622 - val_accuracy: 0.9978 - val_dice_coefficient: 0.9234 - val_loss: 0.0854\n",
            "Epoch 38/50\n",
            "\u001b[1m77/77\u001b[0m \u001b[32m━━━━━━━━━━━━━━━━━━━━\u001b[0m\u001b[37m\u001b[0m \u001b[1m0s\u001b[0m 315ms/step - accuracy: 0.9982 - dice_coefficient: 0.9408 - loss: 0.0639\n",
            "Epoch 38: val_dice_coefficient did not improve from 0.92796\n",
            "\u001b[1m77/77\u001b[0m \u001b[32m━━━━━━━━━━━━━━━━━━━━\u001b[0m\u001b[37m\u001b[0m \u001b[1m30s\u001b[0m 382ms/step - accuracy: 0.9982 - dice_coefficient: 0.9408 - loss: 0.0639 - val_accuracy: 0.9978 - val_dice_coefficient: 0.9265 - val_loss: 0.0810\n",
            "Epoch 39/50\n",
            "\u001b[1m77/77\u001b[0m \u001b[32m━━━━━━━━━━━━━━━━━━━━\u001b[0m\u001b[37m\u001b[0m \u001b[1m0s\u001b[0m 312ms/step - accuracy: 0.9982 - dice_coefficient: 0.9440 - loss: 0.0606\n",
            "Epoch 39: val_dice_coefficient did not improve from 0.92796\n",
            "\u001b[1m77/77\u001b[0m \u001b[32m━━━━━━━━━━━━━━━━━━━━\u001b[0m\u001b[37m\u001b[0m \u001b[1m30s\u001b[0m 384ms/step - accuracy: 0.9982 - dice_coefficient: 0.9440 - loss: 0.0606 - val_accuracy: 0.9973 - val_dice_coefficient: 0.8913 - val_loss: 0.1204\n",
            "Epoch 40/50\n",
            "\u001b[1m77/77\u001b[0m \u001b[32m━━━━━━━━━━━━━━━━━━━━\u001b[0m\u001b[37m\u001b[0m \u001b[1m0s\u001b[0m 308ms/step - accuracy: 0.9982 - dice_coefficient: 0.9417 - loss: 0.0630\n",
            "Epoch 40: val_dice_coefficient improved from 0.92796 to 0.92820, saving model to best_model.h5\n"
          ]
        },
        {
          "output_type": "stream",
          "name": "stderr",
          "text": [
            "WARNING:absl:You are saving your model as an HDF5 file via `model.save()` or `keras.saving.save_model(model)`. This file format is considered legacy. We recommend using instead the native Keras format, e.g. `model.save('my_model.keras')` or `keras.saving.save_model(model, 'my_model.keras')`. \n"
          ]
        },
        {
          "output_type": "stream",
          "name": "stdout",
          "text": [
            "\b\b\b\b\b\b\b\b\b\b\b\b\b\b\b\b\b\b\b\b\b\b\b\b\b\b\b\b\b\b\b\b\b\b\b\b\b\b\b\b\b\b\b\b\b\b\b\b\b\b\b\b\b\b\b\b\b\b\b\b\b\b\b\b\b\b\b\b\b\b\b\b\b\b\b\b\b\b\b\b\b\b\b\b\b\b\b\b\b\b\b\b\b\b\b\b\b\b\b\b\b\r\u001b[1m77/77\u001b[0m \u001b[32m━━━━━━━━━━━━━━━━━━━━\u001b[0m\u001b[37m\u001b[0m \u001b[1m30s\u001b[0m 382ms/step - accuracy: 0.9982 - dice_coefficient: 0.9418 - loss: 0.0630 - val_accuracy: 0.9979 - val_dice_coefficient: 0.9282 - val_loss: 0.0797\n",
            "Epoch 41/50\n",
            "\u001b[1m77/77\u001b[0m \u001b[32m━━━━━━━━━━━━━━━━━━━━\u001b[0m\u001b[37m\u001b[0m \u001b[1m0s\u001b[0m 319ms/step - accuracy: 0.9982 - dice_coefficient: 0.9426 - loss: 0.0619\n",
            "Epoch 41: val_dice_coefficient improved from 0.92820 to 0.92872, saving model to best_model.h5\n"
          ]
        },
        {
          "output_type": "stream",
          "name": "stderr",
          "text": [
            "WARNING:absl:You are saving your model as an HDF5 file via `model.save()` or `keras.saving.save_model(model)`. This file format is considered legacy. We recommend using instead the native Keras format, e.g. `model.save('my_model.keras')` or `keras.saving.save_model(model, 'my_model.keras')`. \n"
          ]
        },
        {
          "output_type": "stream",
          "name": "stdout",
          "text": [
            "\b\b\b\b\b\b\b\b\b\b\b\b\b\b\b\b\b\b\b\b\b\b\b\b\b\b\b\b\b\b\b\b\b\b\b\b\b\b\b\b\b\b\b\b\b\b\b\b\b\b\b\b\b\b\b\b\b\b\b\b\b\b\b\b\b\b\b\b\b\b\b\b\b\b\b\b\b\b\b\b\b\b\b\b\b\b\b\b\b\b\b\b\b\b\b\b\b\b\b\b\b\r\u001b[1m77/77\u001b[0m \u001b[32m━━━━━━━━━━━━━━━━━━━━\u001b[0m\u001b[37m\u001b[0m \u001b[1m30s\u001b[0m 389ms/step - accuracy: 0.9982 - dice_coefficient: 0.9426 - loss: 0.0619 - val_accuracy: 0.9980 - val_dice_coefficient: 0.9287 - val_loss: 0.0791\n",
            "Epoch 42/50\n",
            "\u001b[1m77/77\u001b[0m \u001b[32m━━━━━━━━━━━━━━━━━━━━\u001b[0m\u001b[37m\u001b[0m \u001b[1m0s\u001b[0m 315ms/step - accuracy: 0.9983 - dice_coefficient: 0.9475 - loss: 0.0568\n",
            "Epoch 42: val_dice_coefficient did not improve from 0.92872\n",
            "\u001b[1m77/77\u001b[0m \u001b[32m━━━━━━━━━━━━━━━━━━━━\u001b[0m\u001b[37m\u001b[0m \u001b[1m30s\u001b[0m 381ms/step - accuracy: 0.9983 - dice_coefficient: 0.9475 - loss: 0.0568 - val_accuracy: 0.9979 - val_dice_coefficient: 0.9282 - val_loss: 0.0800\n",
            "Epoch 43/50\n",
            "\u001b[1m77/77\u001b[0m \u001b[32m━━━━━━━━━━━━━━━━━━━━\u001b[0m\u001b[37m\u001b[0m \u001b[1m0s\u001b[0m 312ms/step - accuracy: 0.9984 - dice_coefficient: 0.9510 - loss: 0.0532\n",
            "Epoch 43: val_dice_coefficient did not improve from 0.92872\n",
            "\u001b[1m77/77\u001b[0m \u001b[32m━━━━━━━━━━━━━━━━━━━━\u001b[0m\u001b[37m\u001b[0m \u001b[1m29s\u001b[0m 379ms/step - accuracy: 0.9984 - dice_coefficient: 0.9510 - loss: 0.0532 - val_accuracy: 0.9970 - val_dice_coefficient: 0.8812 - val_loss: 0.1318\n",
            "Epoch 44/50\n",
            "\u001b[1m77/77\u001b[0m \u001b[32m━━━━━━━━━━━━━━━━━━━━\u001b[0m\u001b[37m\u001b[0m \u001b[1m0s\u001b[0m 314ms/step - accuracy: 0.9983 - dice_coefficient: 0.9484 - loss: 0.0558\n",
            "Epoch 44: val_dice_coefficient did not improve from 0.92872\n",
            "\u001b[1m77/77\u001b[0m \u001b[32m━━━━━━━━━━━━━━━━━━━━\u001b[0m\u001b[37m\u001b[0m \u001b[1m30s\u001b[0m 387ms/step - accuracy: 0.9983 - dice_coefficient: 0.9484 - loss: 0.0559 - val_accuracy: 0.9978 - val_dice_coefficient: 0.9255 - val_loss: 0.0827\n",
            "Epoch 45/50\n",
            "\u001b[1m77/77\u001b[0m \u001b[32m━━━━━━━━━━━━━━━━━━━━\u001b[0m\u001b[37m\u001b[0m \u001b[1m0s\u001b[0m 316ms/step - accuracy: 0.9983 - dice_coefficient: 0.9468 - loss: 0.0576\n",
            "Epoch 45: val_dice_coefficient did not improve from 0.92872\n",
            "\u001b[1m77/77\u001b[0m \u001b[32m━━━━━━━━━━━━━━━━━━━━\u001b[0m\u001b[37m\u001b[0m \u001b[1m30s\u001b[0m 384ms/step - accuracy: 0.9983 - dice_coefficient: 0.9467 - loss: 0.0577 - val_accuracy: 0.9968 - val_dice_coefficient: 0.8631 - val_loss: 0.1519\n",
            "Epoch 46/50\n",
            "\u001b[1m77/77\u001b[0m \u001b[32m━━━━━━━━━━━━━━━━━━━━\u001b[0m\u001b[37m\u001b[0m \u001b[1m0s\u001b[0m 318ms/step - accuracy: 0.9981 - dice_coefficient: 0.9395 - loss: 0.0652\n",
            "Epoch 46: val_dice_coefficient did not improve from 0.92872\n",
            "\u001b[1m77/77\u001b[0m \u001b[32m━━━━━━━━━━━━━━━━━━━━\u001b[0m\u001b[37m\u001b[0m \u001b[1m30s\u001b[0m 385ms/step - accuracy: 0.9981 - dice_coefficient: 0.9395 - loss: 0.0652 - val_accuracy: 0.9978 - val_dice_coefficient: 0.9226 - val_loss: 0.0854\n",
            "Epoch 47/50\n",
            "\u001b[1m77/77\u001b[0m \u001b[32m━━━━━━━━━━━━━━━━━━━━\u001b[0m\u001b[37m\u001b[0m \u001b[1m0s\u001b[0m 316ms/step - accuracy: 0.9983 - dice_coefficient: 0.9457 - loss: 0.0586\n",
            "Epoch 47: val_dice_coefficient did not improve from 0.92872\n",
            "\u001b[1m77/77\u001b[0m \u001b[32m━━━━━━━━━━━━━━━━━━━━\u001b[0m\u001b[37m\u001b[0m \u001b[1m30s\u001b[0m 383ms/step - accuracy: 0.9983 - dice_coefficient: 0.9457 - loss: 0.0586 - val_accuracy: 0.9977 - val_dice_coefficient: 0.9158 - val_loss: 0.0937\n",
            "Epoch 48/50\n",
            "\u001b[1m77/77\u001b[0m \u001b[32m━━━━━━━━━━━━━━━━━━━━\u001b[0m\u001b[37m\u001b[0m \u001b[1m0s\u001b[0m 319ms/step - accuracy: 0.9983 - dice_coefficient: 0.9473 - loss: 0.0570\n",
            "Epoch 48: val_dice_coefficient did not improve from 0.92872\n",
            "\u001b[1m77/77\u001b[0m \u001b[32m━━━━━━━━━━━━━━━━━━━━\u001b[0m\u001b[37m\u001b[0m \u001b[1m30s\u001b[0m 390ms/step - accuracy: 0.9983 - dice_coefficient: 0.9472 - loss: 0.0571 - val_accuracy: 0.9964 - val_dice_coefficient: 0.8706 - val_loss: 0.1424\n",
            "Epoch 49/50\n",
            "\u001b[1m77/77\u001b[0m \u001b[32m━━━━━━━━━━━━━━━━━━━━\u001b[0m\u001b[37m\u001b[0m \u001b[1m0s\u001b[0m 310ms/step - accuracy: 0.9980 - dice_coefficient: 0.9367 - loss: 0.0684\n",
            "Epoch 49: val_dice_coefficient did not improve from 0.92872\n",
            "\u001b[1m77/77\u001b[0m \u001b[32m━━━━━━━━━━━━━━━━━━━━\u001b[0m\u001b[37m\u001b[0m \u001b[1m40s\u001b[0m 383ms/step - accuracy: 0.9980 - dice_coefficient: 0.9367 - loss: 0.0684 - val_accuracy: 0.9979 - val_dice_coefficient: 0.9245 - val_loss: 0.0831\n",
            "Epoch 50/50\n",
            "\u001b[1m77/77\u001b[0m \u001b[32m━━━━━━━━━━━━━━━━━━━━\u001b[0m\u001b[37m\u001b[0m \u001b[1m0s\u001b[0m 311ms/step - accuracy: 0.9981 - dice_coefficient: 0.9386 - loss: 0.0663\n",
            "Epoch 50: val_dice_coefficient did not improve from 0.92872\n",
            "\u001b[1m77/77\u001b[0m \u001b[32m━━━━━━━━━━━━━━━━━━━━\u001b[0m\u001b[37m\u001b[0m \u001b[1m30s\u001b[0m 383ms/step - accuracy: 0.9981 - dice_coefficient: 0.9387 - loss: 0.0663 - val_accuracy: 0.9975 - val_dice_coefficient: 0.9065 - val_loss: 0.1040\n"
          ]
        },
        {
          "output_type": "execute_result",
          "data": {
            "text/plain": [
              "<keras.src.callbacks.history.History at 0x7b41181d0e50>"
            ]
          },
          "metadata": {},
          "execution_count": 3
        }
      ]
    },
    {
      "cell_type": "code",
      "source": [
        "import numpy as np\n",
        "from tqdm import tqdm\n",
        "\n",
        "def dice_score_numpy(y_true, y_pred, smooth=1e-6):\n",
        "    y_true_f = y_true.reshape(-1)\n",
        "    y_pred_f = y_pred.reshape(-1)\n",
        "    intersection = np.sum(y_true_f * y_pred_f)\n",
        "    union = np.sum(y_true_f) + np.sum(y_pred_f)\n",
        "    return (2. * intersection + smooth) / (union + smooth)\n",
        "\n",
        "val_preds = []\n",
        "val_trues = []\n",
        "\n",
        "for i in tqdm(range(len(val_gen)), desc=\"Evaluating\"):\n",
        "    x_batch, y_batch = val_gen[i]\n",
        "    if x_batch.shape[0] == 0:\n",
        "        continue\n",
        "    preds = model.predict(x_batch)\n",
        "    preds = (preds > 0.5).astype(np.float32)\n",
        "\n",
        "    val_preds.append(preds)\n",
        "    val_trues.append(y_batch)\n",
        "\n",
        "val_preds = np.vstack(val_preds)\n",
        "val_trues = np.vstack(val_trues)\n",
        "\n",
        "dice = dice_score_numpy(val_trues, val_preds)\n",
        "print(f\"\\n✅ Final Dice Coefficient on Validation Set: {dice:.4f}\")\n"
      ],
      "metadata": {
        "id": "q7Tgv6qjNBQc",
        "outputId": "9f627ed7-4ffe-41a1-cad5-d6a962df0f19",
        "colab": {
          "base_uri": "https://localhost:8080/"
        }
      },
      "execution_count": null,
      "outputs": [
        {
          "output_type": "stream",
          "name": "stderr",
          "text": [
            "\rEvaluating:   0%|          | 0/20 [00:00<?, ?it/s]"
          ]
        },
        {
          "output_type": "stream",
          "name": "stdout",
          "text": [
            "\u001b[1m1/1\u001b[0m \u001b[32m━━━━━━━━━━━━━━━━━━━━\u001b[0m\u001b[37m\u001b[0m \u001b[1m0s\u001b[0m 147ms/step\n"
          ]
        },
        {
          "output_type": "stream",
          "name": "stderr",
          "text": [
            "\rEvaluating:   5%|▌         | 1/20 [00:00<00:08,  2.24it/s]"
          ]
        },
        {
          "output_type": "stream",
          "name": "stdout",
          "text": [
            "\u001b[1m1/1\u001b[0m \u001b[32m━━━━━━━━━━━━━━━━━━━━\u001b[0m\u001b[37m\u001b[0m \u001b[1m0s\u001b[0m 117ms/step\n"
          ]
        },
        {
          "output_type": "stream",
          "name": "stderr",
          "text": [
            "\rEvaluating:  10%|█         | 2/20 [00:00<00:08,  2.22it/s]"
          ]
        },
        {
          "output_type": "stream",
          "name": "stdout",
          "text": [
            "\u001b[1m1/1\u001b[0m \u001b[32m━━━━━━━━━━━━━━━━━━━━\u001b[0m\u001b[37m\u001b[0m \u001b[1m0s\u001b[0m 131ms/step\n"
          ]
        },
        {
          "output_type": "stream",
          "name": "stderr",
          "text": [
            "\rEvaluating:  15%|█▌        | 3/20 [00:01<00:07,  2.18it/s]"
          ]
        },
        {
          "output_type": "stream",
          "name": "stdout",
          "text": [
            "\u001b[1m1/1\u001b[0m \u001b[32m━━━━━━━━━━━━━━━━━━━━\u001b[0m\u001b[37m\u001b[0m \u001b[1m0s\u001b[0m 127ms/step\n"
          ]
        },
        {
          "output_type": "stream",
          "name": "stderr",
          "text": [
            "\rEvaluating:  20%|██        | 4/20 [00:01<00:07,  2.21it/s]"
          ]
        },
        {
          "output_type": "stream",
          "name": "stdout",
          "text": [
            "\u001b[1m1/1\u001b[0m \u001b[32m━━━━━━━━━━━━━━━━━━━━\u001b[0m\u001b[37m\u001b[0m \u001b[1m0s\u001b[0m 136ms/step\n"
          ]
        },
        {
          "output_type": "stream",
          "name": "stderr",
          "text": [
            "\rEvaluating:  25%|██▌       | 5/20 [00:02<00:06,  2.15it/s]"
          ]
        },
        {
          "output_type": "stream",
          "name": "stdout",
          "text": [
            "\u001b[1m1/1\u001b[0m \u001b[32m━━━━━━━━━━━━━━━━━━━━\u001b[0m\u001b[37m\u001b[0m \u001b[1m0s\u001b[0m 126ms/step\n"
          ]
        },
        {
          "output_type": "stream",
          "name": "stderr",
          "text": [
            "\rEvaluating:  30%|███       | 6/20 [00:02<00:06,  2.10it/s]"
          ]
        },
        {
          "output_type": "stream",
          "name": "stdout",
          "text": [
            "\u001b[1m1/1\u001b[0m \u001b[32m━━━━━━━━━━━━━━━━━━━━\u001b[0m\u001b[37m\u001b[0m \u001b[1m0s\u001b[0m 126ms/step\n"
          ]
        },
        {
          "output_type": "stream",
          "name": "stderr",
          "text": [
            "\rEvaluating:  35%|███▌      | 7/20 [00:03<00:06,  2.06it/s]"
          ]
        },
        {
          "output_type": "stream",
          "name": "stdout",
          "text": [
            "\u001b[1m1/1\u001b[0m \u001b[32m━━━━━━━━━━━━━━━━━━━━\u001b[0m\u001b[37m\u001b[0m \u001b[1m0s\u001b[0m 129ms/step\n"
          ]
        },
        {
          "output_type": "stream",
          "name": "stderr",
          "text": [
            "\rEvaluating:  40%|████      | 8/20 [00:03<00:05,  2.04it/s]"
          ]
        },
        {
          "output_type": "stream",
          "name": "stdout",
          "text": [
            "\u001b[1m1/1\u001b[0m \u001b[32m━━━━━━━━━━━━━━━━━━━━\u001b[0m\u001b[37m\u001b[0m \u001b[1m0s\u001b[0m 142ms/step\n"
          ]
        },
        {
          "output_type": "stream",
          "name": "stderr",
          "text": [
            "\rEvaluating:  45%|████▌     | 9/20 [00:04<00:05,  2.04it/s]"
          ]
        },
        {
          "output_type": "stream",
          "name": "stdout",
          "text": [
            "\u001b[1m1/1\u001b[0m \u001b[32m━━━━━━━━━━━━━━━━━━━━\u001b[0m\u001b[37m\u001b[0m \u001b[1m0s\u001b[0m 122ms/step\n"
          ]
        },
        {
          "output_type": "stream",
          "name": "stderr",
          "text": [
            "\rEvaluating:  50%|█████     | 10/20 [00:04<00:04,  2.14it/s]"
          ]
        },
        {
          "output_type": "stream",
          "name": "stdout",
          "text": [
            "\u001b[1m1/1\u001b[0m \u001b[32m━━━━━━━━━━━━━━━━━━━━\u001b[0m\u001b[37m\u001b[0m \u001b[1m0s\u001b[0m 121ms/step\n"
          ]
        },
        {
          "output_type": "stream",
          "name": "stderr",
          "text": [
            "\rEvaluating:  55%|█████▌    | 11/20 [00:05<00:04,  2.16it/s]"
          ]
        },
        {
          "output_type": "stream",
          "name": "stdout",
          "text": [
            "\u001b[1m1/1\u001b[0m \u001b[32m━━━━━━━━━━━━━━━━━━━━\u001b[0m\u001b[37m\u001b[0m \u001b[1m0s\u001b[0m 117ms/step\n"
          ]
        },
        {
          "output_type": "stream",
          "name": "stderr",
          "text": [
            "\rEvaluating:  60%|██████    | 12/20 [00:05<00:03,  2.18it/s]"
          ]
        },
        {
          "output_type": "stream",
          "name": "stdout",
          "text": [
            "\u001b[1m1/1\u001b[0m \u001b[32m━━━━━━━━━━━━━━━━━━━━\u001b[0m\u001b[37m\u001b[0m \u001b[1m0s\u001b[0m 122ms/step\n"
          ]
        },
        {
          "output_type": "stream",
          "name": "stderr",
          "text": [
            "\rEvaluating:  65%|██████▌   | 13/20 [00:06<00:03,  2.21it/s]"
          ]
        },
        {
          "output_type": "stream",
          "name": "stdout",
          "text": [
            "\u001b[1m1/1\u001b[0m \u001b[32m━━━━━━━━━━━━━━━━━━━━\u001b[0m\u001b[37m\u001b[0m \u001b[1m0s\u001b[0m 117ms/step\n"
          ]
        },
        {
          "output_type": "stream",
          "name": "stderr",
          "text": [
            "\rEvaluating:  70%|███████   | 14/20 [00:06<00:02,  2.24it/s]"
          ]
        },
        {
          "output_type": "stream",
          "name": "stdout",
          "text": [
            "\u001b[1m1/1\u001b[0m \u001b[32m━━━━━━━━━━━━━━━━━━━━\u001b[0m\u001b[37m\u001b[0m \u001b[1m0s\u001b[0m 113ms/step\n"
          ]
        },
        {
          "output_type": "stream",
          "name": "stderr",
          "text": [
            "\rEvaluating:  75%|███████▌  | 15/20 [00:06<00:02,  2.30it/s]"
          ]
        },
        {
          "output_type": "stream",
          "name": "stdout",
          "text": [
            "\u001b[1m1/1\u001b[0m \u001b[32m━━━━━━━━━━━━━━━━━━━━\u001b[0m\u001b[37m\u001b[0m \u001b[1m0s\u001b[0m 114ms/step\n"
          ]
        },
        {
          "output_type": "stream",
          "name": "stderr",
          "text": [
            "\rEvaluating:  80%|████████  | 16/20 [00:07<00:01,  2.28it/s]"
          ]
        },
        {
          "output_type": "stream",
          "name": "stdout",
          "text": [
            "\u001b[1m1/1\u001b[0m \u001b[32m━━━━━━━━━━━━━━━━━━━━\u001b[0m\u001b[37m\u001b[0m \u001b[1m0s\u001b[0m 114ms/step\n"
          ]
        },
        {
          "output_type": "stream",
          "name": "stderr",
          "text": [
            "\rEvaluating:  85%|████████▌ | 17/20 [00:07<00:01,  2.23it/s]"
          ]
        },
        {
          "output_type": "stream",
          "name": "stdout",
          "text": [
            "\u001b[1m1/1\u001b[0m \u001b[32m━━━━━━━━━━━━━━━━━━━━\u001b[0m\u001b[37m\u001b[0m \u001b[1m0s\u001b[0m 113ms/step\n"
          ]
        },
        {
          "output_type": "stream",
          "name": "stderr",
          "text": [
            "\rEvaluating:  90%|█████████ | 18/20 [00:08<00:00,  2.20it/s]"
          ]
        },
        {
          "output_type": "stream",
          "name": "stdout",
          "text": [
            "\u001b[1m1/1\u001b[0m \u001b[32m━━━━━━━━━━━━━━━━━━━━\u001b[0m\u001b[37m\u001b[0m \u001b[1m0s\u001b[0m 122ms/step\n"
          ]
        },
        {
          "output_type": "stream",
          "name": "stderr",
          "text": [
            "\rEvaluating:  95%|█████████▌| 19/20 [00:08<00:00,  2.26it/s]"
          ]
        },
        {
          "output_type": "stream",
          "name": "stdout",
          "text": [
            "\u001b[1m1/1\u001b[0m \u001b[32m━━━━━━━━━━━━━━━━━━━━\u001b[0m\u001b[37m\u001b[0m \u001b[1m0s\u001b[0m 42ms/step\n"
          ]
        },
        {
          "output_type": "stream",
          "name": "stderr",
          "text": [
            "Evaluating: 100%|██████████| 20/20 [00:08<00:00,  2.27it/s]\n"
          ]
        },
        {
          "output_type": "stream",
          "name": "stdout",
          "text": [
            "\n",
            "✅ Final Dice Coefficient on Validation Set: 0.9170\n"
          ]
        }
      ]
    },
    {
      "cell_type": "code",
      "source": [
        "from google.colab import drive\n",
        "drive.mount('/content/drive')"
      ],
      "metadata": {
        "colab": {
          "base_uri": "https://localhost:8080/"
        },
        "id": "LvJHxieqzbKr",
        "outputId": "7cf9aa1c-5942-47a2-d244-9218c2157255"
      },
      "execution_count": 1,
      "outputs": [
        {
          "output_type": "stream",
          "name": "stdout",
          "text": [
            "Mounted at /content/drive\n"
          ]
        }
      ]
    },
    {
      "cell_type": "code",
      "source": [],
      "metadata": {
        "id": "kbCphakXRmgA"
      },
      "execution_count": null,
      "outputs": []
    }
  ]
}